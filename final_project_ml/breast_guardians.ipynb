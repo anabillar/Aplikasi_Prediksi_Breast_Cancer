{
  "nbformat": 4,
  "nbformat_minor": 0,
  "metadata": {
    "colab": {
      "provenance": []
    },
    "kernelspec": {
      "name": "python3",
      "display_name": "Python 3"
    },
    "language_info": {
      "name": "python"
    }
  },
  "cells": [
    {
      "cell_type": "markdown",
      "source": [
        "**Nama: Asyfa Nabilla Rahmi** <br>\n",
        "**NIM: 211351033** <br>\n",
        "**Kelas: Pagi A** <br>"
      ],
      "metadata": {
        "id": "h8Cp8Q7Vrgf1"
      }
    },
    {
      "cell_type": "code",
      "execution_count": 1,
      "metadata": {
        "colab": {
          "base_uri": "https://localhost:8080/",
          "height": 91
        },
        "id": "UJCTeEmPhsou",
        "outputId": "3d4eb975-e072-4c82-d0d4-cfaf3f23781e"
      },
      "outputs": [
        {
          "output_type": "display_data",
          "data": {
            "text/plain": [
              "<IPython.core.display.HTML object>"
            ],
            "text/html": [
              "\n",
              "     <input type=\"file\" id=\"files-bdc66564-bccf-4282-8e6f-6217eb56a897\" name=\"files[]\" multiple disabled\n",
              "        style=\"border:none\" />\n",
              "     <output id=\"result-bdc66564-bccf-4282-8e6f-6217eb56a897\">\n",
              "      Upload widget is only available when the cell has been executed in the\n",
              "      current browser session. Please rerun this cell to enable.\n",
              "      </output>\n",
              "      <script>// Copyright 2017 Google LLC\n",
              "//\n",
              "// Licensed under the Apache License, Version 2.0 (the \"License\");\n",
              "// you may not use this file except in compliance with the License.\n",
              "// You may obtain a copy of the License at\n",
              "//\n",
              "//      http://www.apache.org/licenses/LICENSE-2.0\n",
              "//\n",
              "// Unless required by applicable law or agreed to in writing, software\n",
              "// distributed under the License is distributed on an \"AS IS\" BASIS,\n",
              "// WITHOUT WARRANTIES OR CONDITIONS OF ANY KIND, either express or implied.\n",
              "// See the License for the specific language governing permissions and\n",
              "// limitations under the License.\n",
              "\n",
              "/**\n",
              " * @fileoverview Helpers for google.colab Python module.\n",
              " */\n",
              "(function(scope) {\n",
              "function span(text, styleAttributes = {}) {\n",
              "  const element = document.createElement('span');\n",
              "  element.textContent = text;\n",
              "  for (const key of Object.keys(styleAttributes)) {\n",
              "    element.style[key] = styleAttributes[key];\n",
              "  }\n",
              "  return element;\n",
              "}\n",
              "\n",
              "// Max number of bytes which will be uploaded at a time.\n",
              "const MAX_PAYLOAD_SIZE = 100 * 1024;\n",
              "\n",
              "function _uploadFiles(inputId, outputId) {\n",
              "  const steps = uploadFilesStep(inputId, outputId);\n",
              "  const outputElement = document.getElementById(outputId);\n",
              "  // Cache steps on the outputElement to make it available for the next call\n",
              "  // to uploadFilesContinue from Python.\n",
              "  outputElement.steps = steps;\n",
              "\n",
              "  return _uploadFilesContinue(outputId);\n",
              "}\n",
              "\n",
              "// This is roughly an async generator (not supported in the browser yet),\n",
              "// where there are multiple asynchronous steps and the Python side is going\n",
              "// to poll for completion of each step.\n",
              "// This uses a Promise to block the python side on completion of each step,\n",
              "// then passes the result of the previous step as the input to the next step.\n",
              "function _uploadFilesContinue(outputId) {\n",
              "  const outputElement = document.getElementById(outputId);\n",
              "  const steps = outputElement.steps;\n",
              "\n",
              "  const next = steps.next(outputElement.lastPromiseValue);\n",
              "  return Promise.resolve(next.value.promise).then((value) => {\n",
              "    // Cache the last promise value to make it available to the next\n",
              "    // step of the generator.\n",
              "    outputElement.lastPromiseValue = value;\n",
              "    return next.value.response;\n",
              "  });\n",
              "}\n",
              "\n",
              "/**\n",
              " * Generator function which is called between each async step of the upload\n",
              " * process.\n",
              " * @param {string} inputId Element ID of the input file picker element.\n",
              " * @param {string} outputId Element ID of the output display.\n",
              " * @return {!Iterable<!Object>} Iterable of next steps.\n",
              " */\n",
              "function* uploadFilesStep(inputId, outputId) {\n",
              "  const inputElement = document.getElementById(inputId);\n",
              "  inputElement.disabled = false;\n",
              "\n",
              "  const outputElement = document.getElementById(outputId);\n",
              "  outputElement.innerHTML = '';\n",
              "\n",
              "  const pickedPromise = new Promise((resolve) => {\n",
              "    inputElement.addEventListener('change', (e) => {\n",
              "      resolve(e.target.files);\n",
              "    });\n",
              "  });\n",
              "\n",
              "  const cancel = document.createElement('button');\n",
              "  inputElement.parentElement.appendChild(cancel);\n",
              "  cancel.textContent = 'Cancel upload';\n",
              "  const cancelPromise = new Promise((resolve) => {\n",
              "    cancel.onclick = () => {\n",
              "      resolve(null);\n",
              "    };\n",
              "  });\n",
              "\n",
              "  // Wait for the user to pick the files.\n",
              "  const files = yield {\n",
              "    promise: Promise.race([pickedPromise, cancelPromise]),\n",
              "    response: {\n",
              "      action: 'starting',\n",
              "    }\n",
              "  };\n",
              "\n",
              "  cancel.remove();\n",
              "\n",
              "  // Disable the input element since further picks are not allowed.\n",
              "  inputElement.disabled = true;\n",
              "\n",
              "  if (!files) {\n",
              "    return {\n",
              "      response: {\n",
              "        action: 'complete',\n",
              "      }\n",
              "    };\n",
              "  }\n",
              "\n",
              "  for (const file of files) {\n",
              "    const li = document.createElement('li');\n",
              "    li.append(span(file.name, {fontWeight: 'bold'}));\n",
              "    li.append(span(\n",
              "        `(${file.type || 'n/a'}) - ${file.size} bytes, ` +\n",
              "        `last modified: ${\n",
              "            file.lastModifiedDate ? file.lastModifiedDate.toLocaleDateString() :\n",
              "                                    'n/a'} - `));\n",
              "    const percent = span('0% done');\n",
              "    li.appendChild(percent);\n",
              "\n",
              "    outputElement.appendChild(li);\n",
              "\n",
              "    const fileDataPromise = new Promise((resolve) => {\n",
              "      const reader = new FileReader();\n",
              "      reader.onload = (e) => {\n",
              "        resolve(e.target.result);\n",
              "      };\n",
              "      reader.readAsArrayBuffer(file);\n",
              "    });\n",
              "    // Wait for the data to be ready.\n",
              "    let fileData = yield {\n",
              "      promise: fileDataPromise,\n",
              "      response: {\n",
              "        action: 'continue',\n",
              "      }\n",
              "    };\n",
              "\n",
              "    // Use a chunked sending to avoid message size limits. See b/62115660.\n",
              "    let position = 0;\n",
              "    do {\n",
              "      const length = Math.min(fileData.byteLength - position, MAX_PAYLOAD_SIZE);\n",
              "      const chunk = new Uint8Array(fileData, position, length);\n",
              "      position += length;\n",
              "\n",
              "      const base64 = btoa(String.fromCharCode.apply(null, chunk));\n",
              "      yield {\n",
              "        response: {\n",
              "          action: 'append',\n",
              "          file: file.name,\n",
              "          data: base64,\n",
              "        },\n",
              "      };\n",
              "\n",
              "      let percentDone = fileData.byteLength === 0 ?\n",
              "          100 :\n",
              "          Math.round((position / fileData.byteLength) * 100);\n",
              "      percent.textContent = `${percentDone}% done`;\n",
              "\n",
              "    } while (position < fileData.byteLength);\n",
              "  }\n",
              "\n",
              "  // All done.\n",
              "  yield {\n",
              "    response: {\n",
              "      action: 'complete',\n",
              "    }\n",
              "  };\n",
              "}\n",
              "\n",
              "scope.google = scope.google || {};\n",
              "scope.google.colab = scope.google.colab || {};\n",
              "scope.google.colab._files = {\n",
              "  _uploadFiles,\n",
              "  _uploadFilesContinue,\n",
              "};\n",
              "})(self);\n",
              "</script> "
            ]
          },
          "metadata": {}
        },
        {
          "output_type": "stream",
          "name": "stdout",
          "text": [
            "Saving kaggle.json to kaggle.json\n"
          ]
        },
        {
          "output_type": "execute_result",
          "data": {
            "text/plain": [
              "{'kaggle.json': b'{\"username\":\"asyfanabilla\",\"key\":\"b1bc6b280d5b450963cadd8a53557d8c\"}'}"
            ]
          },
          "metadata": {},
          "execution_count": 1
        }
      ],
      "source": [
        "#import dataset dari kaggle\n",
        "\n",
        "from google.colab import files\n",
        "files.upload()"
      ]
    },
    {
      "cell_type": "code",
      "source": [
        "!mkdir -p ~/.kaggle\n",
        "!cp kaggle.json ~/.kaggle/\n",
        "!chmod 600 ~/.kaggle/kaggle.json\n",
        "!ls ~/.kaggle"
      ],
      "metadata": {
        "colab": {
          "base_uri": "https://localhost:8080/"
        },
        "id": "5v-cGFZih1aV",
        "outputId": "d93aef76-039b-455f-a7c0-f22f4ef7bc9f"
      },
      "execution_count": 2,
      "outputs": [
        {
          "output_type": "stream",
          "name": "stdout",
          "text": [
            "kaggle.json\n"
          ]
        }
      ]
    },
    {
      "cell_type": "code",
      "source": [
        "!kaggle datasets download -d uciml/breast-cancer-wisconsin-data"
      ],
      "metadata": {
        "colab": {
          "base_uri": "https://localhost:8080/"
        },
        "id": "aMNyoYCIh3RS",
        "outputId": "486411c5-850b-4708-c24f-303e38bde425"
      },
      "execution_count": 3,
      "outputs": [
        {
          "output_type": "stream",
          "name": "stdout",
          "text": [
            "Dataset URL: https://www.kaggle.com/datasets/uciml/breast-cancer-wisconsin-data\n",
            "License(s): CC-BY-NC-SA-4.0\n",
            "Downloading breast-cancer-wisconsin-data.zip to /content\n",
            "  0% 0.00/48.6k [00:00<?, ?B/s]\n",
            "100% 48.6k/48.6k [00:00<00:00, 37.6MB/s]\n"
          ]
        }
      ]
    },
    {
      "cell_type": "code",
      "source": [
        "!mkdir breast-cancer-wisconsin-data\n",
        "!unzip breast-cancer-wisconsin-data.zip -d breast-cancer-wisconsin-data\n",
        "!ls breast-cancer-wisconsin-data"
      ],
      "metadata": {
        "colab": {
          "base_uri": "https://localhost:8080/"
        },
        "id": "lP2migVZh5Be",
        "outputId": "d6875c30-3573-4ff1-d152-5894b20b1c0c"
      },
      "execution_count": 4,
      "outputs": [
        {
          "output_type": "stream",
          "name": "stdout",
          "text": [
            "Archive:  breast-cancer-wisconsin-data.zip\n",
            "  inflating: breast-cancer-wisconsin-data/data.csv  \n",
            "data.csv\n"
          ]
        }
      ]
    },
    {
      "cell_type": "code",
      "source": [
        "# import library\n",
        "\n",
        "import numpy as np\n",
        "import pandas as pd\n",
        "\n",
        "from tensorflow.keras.models import Sequential\n",
        "from tensorflow.keras.layers import Dense"
      ],
      "metadata": {
        "id": "-VBIjG6Gh7AO"
      },
      "execution_count": 5,
      "outputs": []
    },
    {
      "cell_type": "code",
      "source": [
        "df = pd.read_csv('breast-cancer-wisconsin-data/data.csv')"
      ],
      "metadata": {
        "id": "IkK_GV86h9HF"
      },
      "execution_count": 6,
      "outputs": []
    },
    {
      "cell_type": "code",
      "source": [
        "df.head()"
      ],
      "metadata": {
        "colab": {
          "base_uri": "https://localhost:8080/",
          "height": 273
        },
        "id": "0K7uaMrqh_Qi",
        "outputId": "93f77401-6fdf-443d-d31a-9d77b704bec9"
      },
      "execution_count": 7,
      "outputs": [
        {
          "output_type": "execute_result",
          "data": {
            "text/plain": [
              "         id diagnosis  radius_mean  texture_mean  perimeter_mean  area_mean  \\\n",
              "0    842302         M        17.99         10.38          122.80     1001.0   \n",
              "1    842517         M        20.57         17.77          132.90     1326.0   \n",
              "2  84300903         M        19.69         21.25          130.00     1203.0   \n",
              "3  84348301         M        11.42         20.38           77.58      386.1   \n",
              "4  84358402         M        20.29         14.34          135.10     1297.0   \n",
              "\n",
              "   smoothness_mean  compactness_mean  concavity_mean  concave points_mean  \\\n",
              "0          0.11840           0.27760          0.3001              0.14710   \n",
              "1          0.08474           0.07864          0.0869              0.07017   \n",
              "2          0.10960           0.15990          0.1974              0.12790   \n",
              "3          0.14250           0.28390          0.2414              0.10520   \n",
              "4          0.10030           0.13280          0.1980              0.10430   \n",
              "\n",
              "   ...  texture_worst  perimeter_worst  area_worst  smoothness_worst  \\\n",
              "0  ...          17.33           184.60      2019.0            0.1622   \n",
              "1  ...          23.41           158.80      1956.0            0.1238   \n",
              "2  ...          25.53           152.50      1709.0            0.1444   \n",
              "3  ...          26.50            98.87       567.7            0.2098   \n",
              "4  ...          16.67           152.20      1575.0            0.1374   \n",
              "\n",
              "   compactness_worst  concavity_worst  concave points_worst  symmetry_worst  \\\n",
              "0             0.6656           0.7119                0.2654          0.4601   \n",
              "1             0.1866           0.2416                0.1860          0.2750   \n",
              "2             0.4245           0.4504                0.2430          0.3613   \n",
              "3             0.8663           0.6869                0.2575          0.6638   \n",
              "4             0.2050           0.4000                0.1625          0.2364   \n",
              "\n",
              "   fractal_dimension_worst  Unnamed: 32  \n",
              "0                  0.11890          NaN  \n",
              "1                  0.08902          NaN  \n",
              "2                  0.08758          NaN  \n",
              "3                  0.17300          NaN  \n",
              "4                  0.07678          NaN  \n",
              "\n",
              "[5 rows x 33 columns]"
            ],
            "text/html": [
              "\n",
              "  <div id=\"df-5efb8f2c-d98e-4279-a8a3-e889cee0ba14\" class=\"colab-df-container\">\n",
              "    <div>\n",
              "<style scoped>\n",
              "    .dataframe tbody tr th:only-of-type {\n",
              "        vertical-align: middle;\n",
              "    }\n",
              "\n",
              "    .dataframe tbody tr th {\n",
              "        vertical-align: top;\n",
              "    }\n",
              "\n",
              "    .dataframe thead th {\n",
              "        text-align: right;\n",
              "    }\n",
              "</style>\n",
              "<table border=\"1\" class=\"dataframe\">\n",
              "  <thead>\n",
              "    <tr style=\"text-align: right;\">\n",
              "      <th></th>\n",
              "      <th>id</th>\n",
              "      <th>diagnosis</th>\n",
              "      <th>radius_mean</th>\n",
              "      <th>texture_mean</th>\n",
              "      <th>perimeter_mean</th>\n",
              "      <th>area_mean</th>\n",
              "      <th>smoothness_mean</th>\n",
              "      <th>compactness_mean</th>\n",
              "      <th>concavity_mean</th>\n",
              "      <th>concave points_mean</th>\n",
              "      <th>...</th>\n",
              "      <th>texture_worst</th>\n",
              "      <th>perimeter_worst</th>\n",
              "      <th>area_worst</th>\n",
              "      <th>smoothness_worst</th>\n",
              "      <th>compactness_worst</th>\n",
              "      <th>concavity_worst</th>\n",
              "      <th>concave points_worst</th>\n",
              "      <th>symmetry_worst</th>\n",
              "      <th>fractal_dimension_worst</th>\n",
              "      <th>Unnamed: 32</th>\n",
              "    </tr>\n",
              "  </thead>\n",
              "  <tbody>\n",
              "    <tr>\n",
              "      <th>0</th>\n",
              "      <td>842302</td>\n",
              "      <td>M</td>\n",
              "      <td>17.99</td>\n",
              "      <td>10.38</td>\n",
              "      <td>122.80</td>\n",
              "      <td>1001.0</td>\n",
              "      <td>0.11840</td>\n",
              "      <td>0.27760</td>\n",
              "      <td>0.3001</td>\n",
              "      <td>0.14710</td>\n",
              "      <td>...</td>\n",
              "      <td>17.33</td>\n",
              "      <td>184.60</td>\n",
              "      <td>2019.0</td>\n",
              "      <td>0.1622</td>\n",
              "      <td>0.6656</td>\n",
              "      <td>0.7119</td>\n",
              "      <td>0.2654</td>\n",
              "      <td>0.4601</td>\n",
              "      <td>0.11890</td>\n",
              "      <td>NaN</td>\n",
              "    </tr>\n",
              "    <tr>\n",
              "      <th>1</th>\n",
              "      <td>842517</td>\n",
              "      <td>M</td>\n",
              "      <td>20.57</td>\n",
              "      <td>17.77</td>\n",
              "      <td>132.90</td>\n",
              "      <td>1326.0</td>\n",
              "      <td>0.08474</td>\n",
              "      <td>0.07864</td>\n",
              "      <td>0.0869</td>\n",
              "      <td>0.07017</td>\n",
              "      <td>...</td>\n",
              "      <td>23.41</td>\n",
              "      <td>158.80</td>\n",
              "      <td>1956.0</td>\n",
              "      <td>0.1238</td>\n",
              "      <td>0.1866</td>\n",
              "      <td>0.2416</td>\n",
              "      <td>0.1860</td>\n",
              "      <td>0.2750</td>\n",
              "      <td>0.08902</td>\n",
              "      <td>NaN</td>\n",
              "    </tr>\n",
              "    <tr>\n",
              "      <th>2</th>\n",
              "      <td>84300903</td>\n",
              "      <td>M</td>\n",
              "      <td>19.69</td>\n",
              "      <td>21.25</td>\n",
              "      <td>130.00</td>\n",
              "      <td>1203.0</td>\n",
              "      <td>0.10960</td>\n",
              "      <td>0.15990</td>\n",
              "      <td>0.1974</td>\n",
              "      <td>0.12790</td>\n",
              "      <td>...</td>\n",
              "      <td>25.53</td>\n",
              "      <td>152.50</td>\n",
              "      <td>1709.0</td>\n",
              "      <td>0.1444</td>\n",
              "      <td>0.4245</td>\n",
              "      <td>0.4504</td>\n",
              "      <td>0.2430</td>\n",
              "      <td>0.3613</td>\n",
              "      <td>0.08758</td>\n",
              "      <td>NaN</td>\n",
              "    </tr>\n",
              "    <tr>\n",
              "      <th>3</th>\n",
              "      <td>84348301</td>\n",
              "      <td>M</td>\n",
              "      <td>11.42</td>\n",
              "      <td>20.38</td>\n",
              "      <td>77.58</td>\n",
              "      <td>386.1</td>\n",
              "      <td>0.14250</td>\n",
              "      <td>0.28390</td>\n",
              "      <td>0.2414</td>\n",
              "      <td>0.10520</td>\n",
              "      <td>...</td>\n",
              "      <td>26.50</td>\n",
              "      <td>98.87</td>\n",
              "      <td>567.7</td>\n",
              "      <td>0.2098</td>\n",
              "      <td>0.8663</td>\n",
              "      <td>0.6869</td>\n",
              "      <td>0.2575</td>\n",
              "      <td>0.6638</td>\n",
              "      <td>0.17300</td>\n",
              "      <td>NaN</td>\n",
              "    </tr>\n",
              "    <tr>\n",
              "      <th>4</th>\n",
              "      <td>84358402</td>\n",
              "      <td>M</td>\n",
              "      <td>20.29</td>\n",
              "      <td>14.34</td>\n",
              "      <td>135.10</td>\n",
              "      <td>1297.0</td>\n",
              "      <td>0.10030</td>\n",
              "      <td>0.13280</td>\n",
              "      <td>0.1980</td>\n",
              "      <td>0.10430</td>\n",
              "      <td>...</td>\n",
              "      <td>16.67</td>\n",
              "      <td>152.20</td>\n",
              "      <td>1575.0</td>\n",
              "      <td>0.1374</td>\n",
              "      <td>0.2050</td>\n",
              "      <td>0.4000</td>\n",
              "      <td>0.1625</td>\n",
              "      <td>0.2364</td>\n",
              "      <td>0.07678</td>\n",
              "      <td>NaN</td>\n",
              "    </tr>\n",
              "  </tbody>\n",
              "</table>\n",
              "<p>5 rows × 33 columns</p>\n",
              "</div>\n",
              "    <div class=\"colab-df-buttons\">\n",
              "\n",
              "  <div class=\"colab-df-container\">\n",
              "    <button class=\"colab-df-convert\" onclick=\"convertToInteractive('df-5efb8f2c-d98e-4279-a8a3-e889cee0ba14')\"\n",
              "            title=\"Convert this dataframe to an interactive table.\"\n",
              "            style=\"display:none;\">\n",
              "\n",
              "  <svg xmlns=\"http://www.w3.org/2000/svg\" height=\"24px\" viewBox=\"0 -960 960 960\">\n",
              "    <path d=\"M120-120v-720h720v720H120Zm60-500h600v-160H180v160Zm220 220h160v-160H400v160Zm0 220h160v-160H400v160ZM180-400h160v-160H180v160Zm440 0h160v-160H620v160ZM180-180h160v-160H180v160Zm440 0h160v-160H620v160Z\"/>\n",
              "  </svg>\n",
              "    </button>\n",
              "\n",
              "  <style>\n",
              "    .colab-df-container {\n",
              "      display:flex;\n",
              "      gap: 12px;\n",
              "    }\n",
              "\n",
              "    .colab-df-convert {\n",
              "      background-color: #E8F0FE;\n",
              "      border: none;\n",
              "      border-radius: 50%;\n",
              "      cursor: pointer;\n",
              "      display: none;\n",
              "      fill: #1967D2;\n",
              "      height: 32px;\n",
              "      padding: 0 0 0 0;\n",
              "      width: 32px;\n",
              "    }\n",
              "\n",
              "    .colab-df-convert:hover {\n",
              "      background-color: #E2EBFA;\n",
              "      box-shadow: 0px 1px 2px rgba(60, 64, 67, 0.3), 0px 1px 3px 1px rgba(60, 64, 67, 0.15);\n",
              "      fill: #174EA6;\n",
              "    }\n",
              "\n",
              "    .colab-df-buttons div {\n",
              "      margin-bottom: 4px;\n",
              "    }\n",
              "\n",
              "    [theme=dark] .colab-df-convert {\n",
              "      background-color: #3B4455;\n",
              "      fill: #D2E3FC;\n",
              "    }\n",
              "\n",
              "    [theme=dark] .colab-df-convert:hover {\n",
              "      background-color: #434B5C;\n",
              "      box-shadow: 0px 1px 3px 1px rgba(0, 0, 0, 0.15);\n",
              "      filter: drop-shadow(0px 1px 2px rgba(0, 0, 0, 0.3));\n",
              "      fill: #FFFFFF;\n",
              "    }\n",
              "  </style>\n",
              "\n",
              "    <script>\n",
              "      const buttonEl =\n",
              "        document.querySelector('#df-5efb8f2c-d98e-4279-a8a3-e889cee0ba14 button.colab-df-convert');\n",
              "      buttonEl.style.display =\n",
              "        google.colab.kernel.accessAllowed ? 'block' : 'none';\n",
              "\n",
              "      async function convertToInteractive(key) {\n",
              "        const element = document.querySelector('#df-5efb8f2c-d98e-4279-a8a3-e889cee0ba14');\n",
              "        const dataTable =\n",
              "          await google.colab.kernel.invokeFunction('convertToInteractive',\n",
              "                                                    [key], {});\n",
              "        if (!dataTable) return;\n",
              "\n",
              "        const docLinkHtml = 'Like what you see? Visit the ' +\n",
              "          '<a target=\"_blank\" href=https://colab.research.google.com/notebooks/data_table.ipynb>data table notebook</a>'\n",
              "          + ' to learn more about interactive tables.';\n",
              "        element.innerHTML = '';\n",
              "        dataTable['output_type'] = 'display_data';\n",
              "        await google.colab.output.renderOutput(dataTable, element);\n",
              "        const docLink = document.createElement('div');\n",
              "        docLink.innerHTML = docLinkHtml;\n",
              "        element.appendChild(docLink);\n",
              "      }\n",
              "    </script>\n",
              "  </div>\n",
              "\n",
              "\n",
              "<div id=\"df-f23f5534-421d-45d8-b080-f83aba7b11cb\">\n",
              "  <button class=\"colab-df-quickchart\" onclick=\"quickchart('df-f23f5534-421d-45d8-b080-f83aba7b11cb')\"\n",
              "            title=\"Suggest charts\"\n",
              "            style=\"display:none;\">\n",
              "\n",
              "<svg xmlns=\"http://www.w3.org/2000/svg\" height=\"24px\"viewBox=\"0 0 24 24\"\n",
              "     width=\"24px\">\n",
              "    <g>\n",
              "        <path d=\"M19 3H5c-1.1 0-2 .9-2 2v14c0 1.1.9 2 2 2h14c1.1 0 2-.9 2-2V5c0-1.1-.9-2-2-2zM9 17H7v-7h2v7zm4 0h-2V7h2v10zm4 0h-2v-4h2v4z\"/>\n",
              "    </g>\n",
              "</svg>\n",
              "  </button>\n",
              "\n",
              "<style>\n",
              "  .colab-df-quickchart {\n",
              "      --bg-color: #E8F0FE;\n",
              "      --fill-color: #1967D2;\n",
              "      --hover-bg-color: #E2EBFA;\n",
              "      --hover-fill-color: #174EA6;\n",
              "      --disabled-fill-color: #AAA;\n",
              "      --disabled-bg-color: #DDD;\n",
              "  }\n",
              "\n",
              "  [theme=dark] .colab-df-quickchart {\n",
              "      --bg-color: #3B4455;\n",
              "      --fill-color: #D2E3FC;\n",
              "      --hover-bg-color: #434B5C;\n",
              "      --hover-fill-color: #FFFFFF;\n",
              "      --disabled-bg-color: #3B4455;\n",
              "      --disabled-fill-color: #666;\n",
              "  }\n",
              "\n",
              "  .colab-df-quickchart {\n",
              "    background-color: var(--bg-color);\n",
              "    border: none;\n",
              "    border-radius: 50%;\n",
              "    cursor: pointer;\n",
              "    display: none;\n",
              "    fill: var(--fill-color);\n",
              "    height: 32px;\n",
              "    padding: 0;\n",
              "    width: 32px;\n",
              "  }\n",
              "\n",
              "  .colab-df-quickchart:hover {\n",
              "    background-color: var(--hover-bg-color);\n",
              "    box-shadow: 0 1px 2px rgba(60, 64, 67, 0.3), 0 1px 3px 1px rgba(60, 64, 67, 0.15);\n",
              "    fill: var(--button-hover-fill-color);\n",
              "  }\n",
              "\n",
              "  .colab-df-quickchart-complete:disabled,\n",
              "  .colab-df-quickchart-complete:disabled:hover {\n",
              "    background-color: var(--disabled-bg-color);\n",
              "    fill: var(--disabled-fill-color);\n",
              "    box-shadow: none;\n",
              "  }\n",
              "\n",
              "  .colab-df-spinner {\n",
              "    border: 2px solid var(--fill-color);\n",
              "    border-color: transparent;\n",
              "    border-bottom-color: var(--fill-color);\n",
              "    animation:\n",
              "      spin 1s steps(1) infinite;\n",
              "  }\n",
              "\n",
              "  @keyframes spin {\n",
              "    0% {\n",
              "      border-color: transparent;\n",
              "      border-bottom-color: var(--fill-color);\n",
              "      border-left-color: var(--fill-color);\n",
              "    }\n",
              "    20% {\n",
              "      border-color: transparent;\n",
              "      border-left-color: var(--fill-color);\n",
              "      border-top-color: var(--fill-color);\n",
              "    }\n",
              "    30% {\n",
              "      border-color: transparent;\n",
              "      border-left-color: var(--fill-color);\n",
              "      border-top-color: var(--fill-color);\n",
              "      border-right-color: var(--fill-color);\n",
              "    }\n",
              "    40% {\n",
              "      border-color: transparent;\n",
              "      border-right-color: var(--fill-color);\n",
              "      border-top-color: var(--fill-color);\n",
              "    }\n",
              "    60% {\n",
              "      border-color: transparent;\n",
              "      border-right-color: var(--fill-color);\n",
              "    }\n",
              "    80% {\n",
              "      border-color: transparent;\n",
              "      border-right-color: var(--fill-color);\n",
              "      border-bottom-color: var(--fill-color);\n",
              "    }\n",
              "    90% {\n",
              "      border-color: transparent;\n",
              "      border-bottom-color: var(--fill-color);\n",
              "    }\n",
              "  }\n",
              "</style>\n",
              "\n",
              "  <script>\n",
              "    async function quickchart(key) {\n",
              "      const quickchartButtonEl =\n",
              "        document.querySelector('#' + key + ' button');\n",
              "      quickchartButtonEl.disabled = true;  // To prevent multiple clicks.\n",
              "      quickchartButtonEl.classList.add('colab-df-spinner');\n",
              "      try {\n",
              "        const charts = await google.colab.kernel.invokeFunction(\n",
              "            'suggestCharts', [key], {});\n",
              "      } catch (error) {\n",
              "        console.error('Error during call to suggestCharts:', error);\n",
              "      }\n",
              "      quickchartButtonEl.classList.remove('colab-df-spinner');\n",
              "      quickchartButtonEl.classList.add('colab-df-quickchart-complete');\n",
              "    }\n",
              "    (() => {\n",
              "      let quickchartButtonEl =\n",
              "        document.querySelector('#df-f23f5534-421d-45d8-b080-f83aba7b11cb button');\n",
              "      quickchartButtonEl.style.display =\n",
              "        google.colab.kernel.accessAllowed ? 'block' : 'none';\n",
              "    })();\n",
              "  </script>\n",
              "</div>\n",
              "\n",
              "    </div>\n",
              "  </div>\n"
            ],
            "application/vnd.google.colaboratory.intrinsic+json": {
              "type": "dataframe",
              "variable_name": "df"
            }
          },
          "metadata": {},
          "execution_count": 7
        }
      ]
    },
    {
      "cell_type": "code",
      "source": [
        "df.info()"
      ],
      "metadata": {
        "colab": {
          "base_uri": "https://localhost:8080/"
        },
        "id": "-N52vYOxiBNe",
        "outputId": "d31cda86-0839-47ea-9b90-a54eac54fd83"
      },
      "execution_count": 8,
      "outputs": [
        {
          "output_type": "stream",
          "name": "stdout",
          "text": [
            "<class 'pandas.core.frame.DataFrame'>\n",
            "RangeIndex: 569 entries, 0 to 568\n",
            "Data columns (total 33 columns):\n",
            " #   Column                   Non-Null Count  Dtype  \n",
            "---  ------                   --------------  -----  \n",
            " 0   id                       569 non-null    int64  \n",
            " 1   diagnosis                569 non-null    object \n",
            " 2   radius_mean              569 non-null    float64\n",
            " 3   texture_mean             569 non-null    float64\n",
            " 4   perimeter_mean           569 non-null    float64\n",
            " 5   area_mean                569 non-null    float64\n",
            " 6   smoothness_mean          569 non-null    float64\n",
            " 7   compactness_mean         569 non-null    float64\n",
            " 8   concavity_mean           569 non-null    float64\n",
            " 9   concave points_mean      569 non-null    float64\n",
            " 10  symmetry_mean            569 non-null    float64\n",
            " 11  fractal_dimension_mean   569 non-null    float64\n",
            " 12  radius_se                569 non-null    float64\n",
            " 13  texture_se               569 non-null    float64\n",
            " 14  perimeter_se             569 non-null    float64\n",
            " 15  area_se                  569 non-null    float64\n",
            " 16  smoothness_se            569 non-null    float64\n",
            " 17  compactness_se           569 non-null    float64\n",
            " 18  concavity_se             569 non-null    float64\n",
            " 19  concave points_se        569 non-null    float64\n",
            " 20  symmetry_se              569 non-null    float64\n",
            " 21  fractal_dimension_se     569 non-null    float64\n",
            " 22  radius_worst             569 non-null    float64\n",
            " 23  texture_worst            569 non-null    float64\n",
            " 24  perimeter_worst          569 non-null    float64\n",
            " 25  area_worst               569 non-null    float64\n",
            " 26  smoothness_worst         569 non-null    float64\n",
            " 27  compactness_worst        569 non-null    float64\n",
            " 28  concavity_worst          569 non-null    float64\n",
            " 29  concave points_worst     569 non-null    float64\n",
            " 30  symmetry_worst           569 non-null    float64\n",
            " 31  fractal_dimension_worst  569 non-null    float64\n",
            " 32  Unnamed: 32              0 non-null      float64\n",
            "dtypes: float64(31), int64(1), object(1)\n",
            "memory usage: 146.8+ KB\n"
          ]
        }
      ]
    },
    {
      "cell_type": "code",
      "source": [
        "# mengurangi jumlah kolom dengan fungsi df.drop\n",
        "\n",
        "df.drop(columns=['id', 'Unnamed: 32', 'concave points_mean',\t'symmetry_mean',\t'fractal_dimension_mean',\t'radius_se',\t'texture_se',\t'perimeter_se',\t'compactness_se',\t'concavity_se',\t'concave points_se',\t'symmetry_se',\t'fractal_dimension_se',\t'radius_worst',\t'texture_worst',\t'perimeter_worst',\t'area_worst',\t'smoothness_worst',\t'compactness_worst',\t'concavity_worst',\t'concave points_worst',\t'symmetry_worst',\t'fractal_dimension_worst'], inplace=True)"
      ],
      "metadata": {
        "id": "LEvB1YUwiCaz"
      },
      "execution_count": 9,
      "outputs": []
    },
    {
      "cell_type": "code",
      "source": [
        "df.info()"
      ],
      "metadata": {
        "colab": {
          "base_uri": "https://localhost:8080/"
        },
        "id": "PZ_rnvqViGEz",
        "outputId": "b7185bd9-f6be-4851-f74c-3272a52068c9"
      },
      "execution_count": 10,
      "outputs": [
        {
          "output_type": "stream",
          "name": "stdout",
          "text": [
            "<class 'pandas.core.frame.DataFrame'>\n",
            "RangeIndex: 569 entries, 0 to 568\n",
            "Data columns (total 10 columns):\n",
            " #   Column            Non-Null Count  Dtype  \n",
            "---  ------            --------------  -----  \n",
            " 0   diagnosis         569 non-null    object \n",
            " 1   radius_mean       569 non-null    float64\n",
            " 2   texture_mean      569 non-null    float64\n",
            " 3   perimeter_mean    569 non-null    float64\n",
            " 4   area_mean         569 non-null    float64\n",
            " 5   smoothness_mean   569 non-null    float64\n",
            " 6   compactness_mean  569 non-null    float64\n",
            " 7   concavity_mean    569 non-null    float64\n",
            " 8   area_se           569 non-null    float64\n",
            " 9   smoothness_se     569 non-null    float64\n",
            "dtypes: float64(9), object(1)\n",
            "memory usage: 44.6+ KB\n"
          ]
        }
      ]
    },
    {
      "cell_type": "code",
      "source": [
        "# melihat data yang kosong (null)\n",
        "\n",
        "df.isnull().sum()"
      ],
      "metadata": {
        "colab": {
          "base_uri": "https://localhost:8080/"
        },
        "id": "yXMZwhYsiSZy",
        "outputId": "41aa4cf5-73eb-453b-c3ac-66768eb60e85"
      },
      "execution_count": 11,
      "outputs": [
        {
          "output_type": "execute_result",
          "data": {
            "text/plain": [
              "diagnosis           0\n",
              "radius_mean         0\n",
              "texture_mean        0\n",
              "perimeter_mean      0\n",
              "area_mean           0\n",
              "smoothness_mean     0\n",
              "compactness_mean    0\n",
              "concavity_mean      0\n",
              "area_se             0\n",
              "smoothness_se       0\n",
              "dtype: int64"
            ]
          },
          "metadata": {},
          "execution_count": 11
        }
      ]
    },
    {
      "cell_type": "code",
      "source": [
        "# memisahkan kolom numerik dan kategorikal dan mengisi nilai yang hilang\n",
        "\n",
        "numerical = []\n",
        "catgcols = []\n",
        "\n",
        "for col in df.columns:\n",
        "    if df[col].dtype== 'int64' :\n",
        "      numerical.append(col)\n",
        "    else:\n",
        "      catgcols.append(col)\n",
        "\n",
        "for col in df.columns:\n",
        "    if col in numerical:\n",
        "      df[col].fillna(df[col].median(), inplace=True)\n",
        "    else:\n",
        "      df[col].fillna(df[col].mode()[0], inplace=True)"
      ],
      "metadata": {
        "id": "gm4wE3nmiWBt"
      },
      "execution_count": 12,
      "outputs": []
    },
    {
      "cell_type": "code",
      "source": [
        "numerical"
      ],
      "metadata": {
        "colab": {
          "base_uri": "https://localhost:8080/"
        },
        "id": "cbWPrQVdidtX",
        "outputId": "acf6d7f9-ab20-4d12-ce08-eddd30723c06"
      },
      "execution_count": 13,
      "outputs": [
        {
          "output_type": "execute_result",
          "data": {
            "text/plain": [
              "[]"
            ]
          },
          "metadata": {},
          "execution_count": 13
        }
      ]
    },
    {
      "cell_type": "code",
      "source": [
        "catgcols"
      ],
      "metadata": {
        "colab": {
          "base_uri": "https://localhost:8080/"
        },
        "id": "wsYAtvrdifsY",
        "outputId": "caf941f7-96a0-4a2d-b205-0868131eec39"
      },
      "execution_count": 14,
      "outputs": [
        {
          "output_type": "execute_result",
          "data": {
            "text/plain": [
              "['diagnosis',\n",
              " 'radius_mean',\n",
              " 'texture_mean',\n",
              " 'perimeter_mean',\n",
              " 'area_mean',\n",
              " 'smoothness_mean',\n",
              " 'compactness_mean',\n",
              " 'concavity_mean',\n",
              " 'area_se',\n",
              " 'smoothness_se']"
            ]
          },
          "metadata": {},
          "execution_count": 14
        }
      ]
    },
    {
      "cell_type": "code",
      "source": [
        "# menentukan label\n",
        "\n",
        "ind_col = [col for col in df.columns if col != 'diagnosis']\n",
        "dep_col = 'diagnosis'"
      ],
      "metadata": {
        "id": "kQTiV5MNijZz"
      },
      "execution_count": 15,
      "outputs": []
    },
    {
      "cell_type": "code",
      "source": [
        "# mengubah kolom-kolom kategorikal di DataFrame df menjadi format numerik\n",
        "\n",
        "from sklearn.preprocessing import LabelEncoder\n",
        "\n",
        "le = LabelEncoder()\n",
        "\n",
        "for col in catgcols:\n",
        "  df[col] = le.fit_transform(df[col])"
      ],
      "metadata": {
        "id": "gKs6I9ioile1"
      },
      "execution_count": 16,
      "outputs": []
    },
    {
      "cell_type": "code",
      "source": [
        "x = df[ind_col] #features\n",
        "y = df[dep_col] #label"
      ],
      "metadata": {
        "id": "41ZGk5OsinoR"
      },
      "execution_count": 17,
      "outputs": []
    },
    {
      "cell_type": "code",
      "source": [
        "y.value_counts()"
      ],
      "metadata": {
        "colab": {
          "base_uri": "https://localhost:8080/"
        },
        "id": "G8yXUMpOiqXd",
        "outputId": "b67cde8a-b5ae-42df-80dd-863df530dd0b"
      },
      "execution_count": 18,
      "outputs": [
        {
          "output_type": "execute_result",
          "data": {
            "text/plain": [
              "diagnosis\n",
              "0    357\n",
              "1    212\n",
              "Name: count, dtype: int64"
            ]
          },
          "metadata": {},
          "execution_count": 18
        }
      ]
    },
    {
      "cell_type": "code",
      "source": [
        "# membagi data latih dan data uji\n",
        "\n",
        "from sklearn.model_selection import train_test_split\n",
        "\n",
        "x_train, x_test, y_train, y_test = train_test_split(x, y, test_size=0.3)\n",
        "\n",
        "print('train shape:', x_train.shape)\n",
        "print('test shape:', x_test.shape)"
      ],
      "metadata": {
        "colab": {
          "base_uri": "https://localhost:8080/"
        },
        "id": "V5jqoae7ir7o",
        "outputId": "0a8b7394-f8ea-4a17-da70-ef69f15571cf"
      },
      "execution_count": 19,
      "outputs": [
        {
          "output_type": "stream",
          "name": "stdout",
          "text": [
            "train shape: (398, 9)\n",
            "test shape: (171, 9)\n"
          ]
        }
      ]
    },
    {
      "cell_type": "code",
      "source": [
        "from sklearn.preprocessing import MinMaxScaler\n",
        "sc = MinMaxScaler()\n",
        "x_train = sc.fit_transform(x_train)\n",
        "x_test = sc.transform(x_test)"
      ],
      "metadata": {
        "id": "gfATk8fViu_s"
      },
      "execution_count": 20,
      "outputs": []
    },
    {
      "cell_type": "code",
      "source": [
        "# membuat dan konfigurasi model jaringan saraf untuk tugas klasifikasi teks menggunakan TensorFlow\n",
        "\n",
        "model = Sequential([\n",
        "    Dense(120, activation='relu', input_dim=9),\n",
        "    Dense(64, activation='relu'),\n",
        "    Dense(1, activation='sigmoid')\n",
        "])\n",
        "\n",
        "model.summary()"
      ],
      "metadata": {
        "colab": {
          "base_uri": "https://localhost:8080/"
        },
        "id": "Xal7NV9DiwBS",
        "outputId": "f08c4baf-c80c-4dc1-a6b3-fda707eccde9"
      },
      "execution_count": 21,
      "outputs": [
        {
          "output_type": "stream",
          "name": "stdout",
          "text": [
            "Model: \"sequential\"\n",
            "_________________________________________________________________\n",
            " Layer (type)                Output Shape              Param #   \n",
            "=================================================================\n",
            " dense (Dense)               (None, 120)               1200      \n",
            "                                                                 \n",
            " dense_1 (Dense)             (None, 64)                7744      \n",
            "                                                                 \n",
            " dense_2 (Dense)             (None, 1)                 65        \n",
            "                                                                 \n",
            "=================================================================\n",
            "Total params: 9009 (35.19 KB)\n",
            "Trainable params: 9009 (35.19 KB)\n",
            "Non-trainable params: 0 (0.00 Byte)\n",
            "_________________________________________________________________\n"
          ]
        }
      ]
    },
    {
      "cell_type": "code",
      "source": [
        "from tensorflow.keras.utils import plot_model\n",
        "\n",
        "plot_model(model, show_shapes=True)"
      ],
      "metadata": {
        "colab": {
          "base_uri": "https://localhost:8080/",
          "height": 422
        },
        "id": "_QdBOYx0iyja",
        "outputId": "538f73cd-201f-42ad-f789-e126f8a193aa"
      },
      "execution_count": 22,
      "outputs": [
        {
          "output_type": "execute_result",
          "data": {
            "image/png": "[encoded data removed]",
            "text/plain": [
              "<IPython.core.display.Image object>"
            ]
          },
          "metadata": {},
          "execution_count": 22
        }
      ]
    },
    {
      "cell_type": "code",
      "source": [
        "# melatih model dengan data yang telah diproses sebelumnya\n",
        "\n",
        "from tensorflow.keras.optimizers import Adam\n",
        "optim = Adam(lr=0.001)\n",
        "model.compile(loss='binary_crossentropy',\n",
        "              optimizer=optim,\n",
        "              metrics=['acc'])\n",
        "batch_size=32\n",
        "epochs = 150\n",
        "\n",
        "history = model.fit(x_train, y_train,\n",
        "                    batch_size=batch_size,\n",
        "                    epochs=epochs,\n",
        "                    verbose=1,\n",
        "                    shuffle=True,\n",
        "                    validation_split=0.1)"
      ],
      "metadata": {
        "colab": {
          "base_uri": "https://localhost:8080/"
        },
        "id": "gevUyQBMi2hf",
        "outputId": "259d7033-b74b-43c2-a1f8-e9372d6a18d7"
      },
      "execution_count": 23,
      "outputs": [
        {
          "output_type": "stream",
          "name": "stderr",
          "text": [
            "WARNING:absl:`lr` is deprecated in Keras optimizer, please use `learning_rate` or use the legacy optimizer, e.g.,tf.keras.optimizers.legacy.Adam.\n"
          ]
        },
        {
          "output_type": "stream",
          "name": "stdout",
          "text": [
            "Epoch 1/150\n",
            "12/12 [==============================] - 2s 37ms/step - loss: 0.6734 - acc: 0.6872 - val_loss: 0.6361 - val_acc: 0.8500\n",
            "Epoch 2/150\n",
            "12/12 [==============================] - 0s 10ms/step - loss: 0.6142 - acc: 0.8240 - val_loss: 0.6088 - val_acc: 0.7500\n",
            "Epoch 3/150\n",
            "12/12 [==============================] - 0s 9ms/step - loss: 0.5597 - acc: 0.8184 - val_loss: 0.5508 - val_acc: 0.8250\n",
            "Epoch 4/150\n",
            "12/12 [==============================] - 0s 8ms/step - loss: 0.4961 - acc: 0.8547 - val_loss: 0.4736 - val_acc: 0.8750\n",
            "Epoch 5/150\n",
            "12/12 [==============================] - 0s 8ms/step - loss: 0.4283 - acc: 0.8520 - val_loss: 0.4363 - val_acc: 0.8250\n",
            "Epoch 6/150\n",
            "12/12 [==============================] - 0s 9ms/step - loss: 0.3723 - acc: 0.8743 - val_loss: 0.3593 - val_acc: 0.8750\n",
            "Epoch 7/150\n",
            "12/12 [==============================] - 0s 7ms/step - loss: 0.3269 - acc: 0.8827 - val_loss: 0.3159 - val_acc: 0.9000\n",
            "Epoch 8/150\n",
            "12/12 [==============================] - 0s 9ms/step - loss: 0.2853 - acc: 0.9078 - val_loss: 0.2810 - val_acc: 0.9000\n",
            "Epoch 9/150\n",
            "12/12 [==============================] - 0s 8ms/step - loss: 0.2539 - acc: 0.9218 - val_loss: 0.2653 - val_acc: 0.9000\n",
            "Epoch 10/150\n",
            "12/12 [==============================] - 0s 8ms/step - loss: 0.2370 - acc: 0.9078 - val_loss: 0.2247 - val_acc: 0.9000\n",
            "Epoch 11/150\n",
            "12/12 [==============================] - 0s 10ms/step - loss: 0.2130 - acc: 0.9274 - val_loss: 0.2556 - val_acc: 0.8500\n",
            "Epoch 12/150\n",
            "12/12 [==============================] - 0s 7ms/step - loss: 0.2074 - acc: 0.9106 - val_loss: 0.1987 - val_acc: 0.9250\n",
            "Epoch 13/150\n",
            "12/12 [==============================] - 0s 5ms/step - loss: 0.1843 - acc: 0.9274 - val_loss: 0.2148 - val_acc: 0.9000\n",
            "Epoch 14/150\n",
            "12/12 [==============================] - 0s 7ms/step - loss: 0.1798 - acc: 0.9246 - val_loss: 0.1814 - val_acc: 0.9250\n",
            "Epoch 15/150\n",
            "12/12 [==============================] - 0s 5ms/step - loss: 0.1751 - acc: 0.9330 - val_loss: 0.2274 - val_acc: 0.8750\n",
            "Epoch 16/150\n",
            "12/12 [==============================] - 0s 7ms/step - loss: 0.1709 - acc: 0.9385 - val_loss: 0.1774 - val_acc: 0.9250\n",
            "Epoch 17/150\n",
            "12/12 [==============================] - 0s 6ms/step - loss: 0.1579 - acc: 0.9302 - val_loss: 0.2302 - val_acc: 0.8750\n",
            "Epoch 18/150\n",
            "12/12 [==============================] - 0s 7ms/step - loss: 0.1624 - acc: 0.9385 - val_loss: 0.1832 - val_acc: 0.9250\n",
            "Epoch 19/150\n",
            "12/12 [==============================] - 0s 7ms/step - loss: 0.1594 - acc: 0.9413 - val_loss: 0.1928 - val_acc: 0.9000\n",
            "Epoch 20/150\n",
            "12/12 [==============================] - 0s 5ms/step - loss: 0.1746 - acc: 0.9218 - val_loss: 0.1582 - val_acc: 0.9500\n",
            "Epoch 21/150\n",
            "12/12 [==============================] - 0s 6ms/step - loss: 0.1738 - acc: 0.9246 - val_loss: 0.1641 - val_acc: 0.9500\n",
            "Epoch 22/150\n",
            "12/12 [==============================] - 0s 6ms/step - loss: 0.1575 - acc: 0.9246 - val_loss: 0.1661 - val_acc: 0.9500\n",
            "Epoch 23/150\n",
            "12/12 [==============================] - 0s 7ms/step - loss: 0.1410 - acc: 0.9441 - val_loss: 0.1496 - val_acc: 0.9500\n",
            "Epoch 24/150\n",
            "12/12 [==============================] - 0s 5ms/step - loss: 0.1324 - acc: 0.9469 - val_loss: 0.1525 - val_acc: 0.9500\n",
            "Epoch 25/150\n",
            "12/12 [==============================] - 0s 5ms/step - loss: 0.1397 - acc: 0.9385 - val_loss: 0.1515 - val_acc: 0.9250\n",
            "Epoch 26/150\n",
            "12/12 [==============================] - 0s 6ms/step - loss: 0.1314 - acc: 0.9385 - val_loss: 0.1641 - val_acc: 0.9500\n",
            "Epoch 27/150\n",
            "12/12 [==============================] - 0s 6ms/step - loss: 0.1384 - acc: 0.9525 - val_loss: 0.1531 - val_acc: 0.9250\n",
            "Epoch 28/150\n",
            "12/12 [==============================] - 0s 6ms/step - loss: 0.1286 - acc: 0.9413 - val_loss: 0.1740 - val_acc: 0.9000\n",
            "Epoch 29/150\n",
            "12/12 [==============================] - 0s 5ms/step - loss: 0.1309 - acc: 0.9358 - val_loss: 0.1465 - val_acc: 0.9250\n",
            "Epoch 30/150\n",
            "12/12 [==============================] - 0s 7ms/step - loss: 0.1244 - acc: 0.9441 - val_loss: 0.1519 - val_acc: 0.9500\n",
            "Epoch 31/150\n",
            "12/12 [==============================] - 0s 9ms/step - loss: 0.1242 - acc: 0.9497 - val_loss: 0.1417 - val_acc: 0.9250\n",
            "Epoch 32/150\n",
            "12/12 [==============================] - 0s 8ms/step - loss: 0.1196 - acc: 0.9497 - val_loss: 0.1459 - val_acc: 0.9250\n",
            "Epoch 33/150\n",
            "12/12 [==============================] - 0s 6ms/step - loss: 0.1202 - acc: 0.9553 - val_loss: 0.1446 - val_acc: 0.9500\n",
            "Epoch 34/150\n",
            "12/12 [==============================] - 0s 6ms/step - loss: 0.1143 - acc: 0.9525 - val_loss: 0.1393 - val_acc: 0.9500\n",
            "Epoch 35/150\n",
            "12/12 [==============================] - 0s 5ms/step - loss: 0.1247 - acc: 0.9525 - val_loss: 0.1389 - val_acc: 0.9250\n",
            "Epoch 36/150\n",
            "12/12 [==============================] - 0s 5ms/step - loss: 0.1156 - acc: 0.9469 - val_loss: 0.1375 - val_acc: 0.9250\n",
            "Epoch 37/150\n",
            "12/12 [==============================] - 0s 6ms/step - loss: 0.1163 - acc: 0.9358 - val_loss: 0.1489 - val_acc: 0.9500\n",
            "Epoch 38/150\n",
            "12/12 [==============================] - 0s 5ms/step - loss: 0.1178 - acc: 0.9581 - val_loss: 0.1354 - val_acc: 0.9250\n",
            "Epoch 39/150\n",
            "12/12 [==============================] - 0s 6ms/step - loss: 0.1126 - acc: 0.9469 - val_loss: 0.1408 - val_acc: 0.9500\n",
            "Epoch 40/150\n",
            "12/12 [==============================] - 0s 7ms/step - loss: 0.1111 - acc: 0.9553 - val_loss: 0.1316 - val_acc: 0.9250\n",
            "Epoch 41/150\n",
            "12/12 [==============================] - 0s 7ms/step - loss: 0.1049 - acc: 0.9497 - val_loss: 0.1329 - val_acc: 0.9500\n",
            "Epoch 42/150\n",
            "12/12 [==============================] - 0s 7ms/step - loss: 0.1058 - acc: 0.9581 - val_loss: 0.1273 - val_acc: 0.9250\n",
            "Epoch 43/150\n",
            "12/12 [==============================] - 0s 7ms/step - loss: 0.1018 - acc: 0.9609 - val_loss: 0.1296 - val_acc: 0.9250\n",
            "Epoch 44/150\n",
            "12/12 [==============================] - 0s 7ms/step - loss: 0.1046 - acc: 0.9609 - val_loss: 0.1310 - val_acc: 0.9250\n",
            "Epoch 45/150\n",
            "12/12 [==============================] - 0s 6ms/step - loss: 0.1013 - acc: 0.9553 - val_loss: 0.1335 - val_acc: 0.9500\n",
            "Epoch 46/150\n",
            "12/12 [==============================] - 0s 8ms/step - loss: 0.0981 - acc: 0.9637 - val_loss: 0.1300 - val_acc: 0.9250\n",
            "Epoch 47/150\n",
            "12/12 [==============================] - 0s 5ms/step - loss: 0.1116 - acc: 0.9497 - val_loss: 0.1395 - val_acc: 0.9500\n",
            "Epoch 48/150\n",
            "12/12 [==============================] - 0s 7ms/step - loss: 0.1001 - acc: 0.9609 - val_loss: 0.1294 - val_acc: 0.9250\n",
            "Epoch 49/150\n",
            "12/12 [==============================] - 0s 7ms/step - loss: 0.0941 - acc: 0.9609 - val_loss: 0.1324 - val_acc: 0.9250\n",
            "Epoch 50/150\n",
            "12/12 [==============================] - 0s 7ms/step - loss: 0.0953 - acc: 0.9637 - val_loss: 0.1283 - val_acc: 0.9250\n",
            "Epoch 51/150\n",
            "12/12 [==============================] - 0s 7ms/step - loss: 0.0936 - acc: 0.9637 - val_loss: 0.1284 - val_acc: 0.9250\n",
            "Epoch 52/150\n",
            "12/12 [==============================] - 0s 7ms/step - loss: 0.0907 - acc: 0.9637 - val_loss: 0.1246 - val_acc: 0.9250\n",
            "Epoch 53/150\n",
            "12/12 [==============================] - 0s 7ms/step - loss: 0.0921 - acc: 0.9581 - val_loss: 0.1305 - val_acc: 0.9250\n",
            "Epoch 54/150\n",
            "12/12 [==============================] - 0s 6ms/step - loss: 0.1035 - acc: 0.9497 - val_loss: 0.1234 - val_acc: 0.9250\n",
            "Epoch 55/150\n",
            "12/12 [==============================] - 0s 7ms/step - loss: 0.0972 - acc: 0.9665 - val_loss: 0.1276 - val_acc: 0.9250\n",
            "Epoch 56/150\n",
            "12/12 [==============================] - 0s 8ms/step - loss: 0.0910 - acc: 0.9637 - val_loss: 0.1575 - val_acc: 0.9250\n",
            "Epoch 57/150\n",
            "12/12 [==============================] - 0s 5ms/step - loss: 0.1126 - acc: 0.9637 - val_loss: 0.1412 - val_acc: 0.9250\n",
            "Epoch 58/150\n",
            "12/12 [==============================] - 0s 6ms/step - loss: 0.0959 - acc: 0.9581 - val_loss: 0.1232 - val_acc: 0.9250\n",
            "Epoch 59/150\n",
            "12/12 [==============================] - 0s 5ms/step - loss: 0.0905 - acc: 0.9609 - val_loss: 0.1231 - val_acc: 0.9250\n",
            "Epoch 60/150\n",
            "12/12 [==============================] - 0s 5ms/step - loss: 0.0899 - acc: 0.9693 - val_loss: 0.1211 - val_acc: 0.9250\n",
            "Epoch 61/150\n",
            "12/12 [==============================] - 0s 5ms/step - loss: 0.0918 - acc: 0.9609 - val_loss: 0.1289 - val_acc: 0.9250\n",
            "Epoch 62/150\n",
            "12/12 [==============================] - 0s 7ms/step - loss: 0.0874 - acc: 0.9609 - val_loss: 0.1187 - val_acc: 0.9250\n",
            "Epoch 63/150\n",
            "12/12 [==============================] - 0s 7ms/step - loss: 0.0839 - acc: 0.9693 - val_loss: 0.1203 - val_acc: 0.9500\n",
            "Epoch 64/150\n",
            "12/12 [==============================] - 0s 7ms/step - loss: 0.0861 - acc: 0.9693 - val_loss: 0.1212 - val_acc: 0.9250\n",
            "Epoch 65/150\n",
            "12/12 [==============================] - 0s 7ms/step - loss: 0.0823 - acc: 0.9693 - val_loss: 0.1258 - val_acc: 0.9250\n",
            "Epoch 66/150\n",
            "12/12 [==============================] - 0s 7ms/step - loss: 0.0893 - acc: 0.9721 - val_loss: 0.1282 - val_acc: 0.9250\n",
            "Epoch 67/150\n",
            "12/12 [==============================] - 0s 10ms/step - loss: 0.0838 - acc: 0.9609 - val_loss: 0.1176 - val_acc: 0.9500\n",
            "Epoch 68/150\n",
            "12/12 [==============================] - 0s 7ms/step - loss: 0.0794 - acc: 0.9721 - val_loss: 0.1106 - val_acc: 0.9250\n",
            "Epoch 69/150\n",
            "12/12 [==============================] - 0s 8ms/step - loss: 0.0820 - acc: 0.9721 - val_loss: 0.1309 - val_acc: 0.9250\n",
            "Epoch 70/150\n",
            "12/12 [==============================] - 0s 6ms/step - loss: 0.0905 - acc: 0.9609 - val_loss: 0.1178 - val_acc: 0.9250\n",
            "Epoch 71/150\n",
            "12/12 [==============================] - 0s 6ms/step - loss: 0.0832 - acc: 0.9609 - val_loss: 0.1189 - val_acc: 0.9250\n",
            "Epoch 72/150\n",
            "12/12 [==============================] - 0s 5ms/step - loss: 0.0823 - acc: 0.9693 - val_loss: 0.1283 - val_acc: 0.9250\n",
            "Epoch 73/150\n",
            "12/12 [==============================] - 0s 6ms/step - loss: 0.0813 - acc: 0.9665 - val_loss: 0.1435 - val_acc: 0.9250\n",
            "Epoch 74/150\n",
            "12/12 [==============================] - 0s 6ms/step - loss: 0.0844 - acc: 0.9609 - val_loss: 0.1286 - val_acc: 0.9250\n",
            "Epoch 75/150\n",
            "12/12 [==============================] - 0s 5ms/step - loss: 0.0849 - acc: 0.9637 - val_loss: 0.1172 - val_acc: 0.9500\n",
            "Epoch 76/150\n",
            "12/12 [==============================] - 0s 5ms/step - loss: 0.0756 - acc: 0.9749 - val_loss: 0.1161 - val_acc: 0.9500\n",
            "Epoch 77/150\n",
            "12/12 [==============================] - 0s 6ms/step - loss: 0.0737 - acc: 0.9777 - val_loss: 0.1179 - val_acc: 0.9500\n",
            "Epoch 78/150\n",
            "12/12 [==============================] - 0s 6ms/step - loss: 0.0739 - acc: 0.9777 - val_loss: 0.1185 - val_acc: 0.9500\n",
            "Epoch 79/150\n",
            "12/12 [==============================] - 0s 8ms/step - loss: 0.0830 - acc: 0.9581 - val_loss: 0.1327 - val_acc: 0.9250\n",
            "Epoch 80/150\n",
            "12/12 [==============================] - 0s 5ms/step - loss: 0.0872 - acc: 0.9581 - val_loss: 0.1187 - val_acc: 0.9500\n",
            "Epoch 81/150\n",
            "12/12 [==============================] - 0s 6ms/step - loss: 0.0780 - acc: 0.9665 - val_loss: 0.1261 - val_acc: 0.9250\n",
            "Epoch 82/150\n",
            "12/12 [==============================] - 0s 6ms/step - loss: 0.0715 - acc: 0.9749 - val_loss: 0.1188 - val_acc: 0.9250\n",
            "Epoch 83/150\n",
            "12/12 [==============================] - 0s 5ms/step - loss: 0.0807 - acc: 0.9637 - val_loss: 0.1135 - val_acc: 0.9500\n",
            "Epoch 84/150\n",
            "12/12 [==============================] - 0s 5ms/step - loss: 0.0726 - acc: 0.9721 - val_loss: 0.1141 - val_acc: 0.9500\n",
            "Epoch 85/150\n",
            "12/12 [==============================] - 0s 7ms/step - loss: 0.0718 - acc: 0.9777 - val_loss: 0.1178 - val_acc: 0.9500\n",
            "Epoch 86/150\n",
            "12/12 [==============================] - 0s 5ms/step - loss: 0.0715 - acc: 0.9804 - val_loss: 0.1099 - val_acc: 0.9500\n",
            "Epoch 87/150\n",
            "12/12 [==============================] - 0s 6ms/step - loss: 0.0731 - acc: 0.9777 - val_loss: 0.1170 - val_acc: 0.9250\n",
            "Epoch 88/150\n",
            "12/12 [==============================] - 0s 6ms/step - loss: 0.0691 - acc: 0.9777 - val_loss: 0.1146 - val_acc: 0.9500\n",
            "Epoch 89/150\n",
            "12/12 [==============================] - 0s 7ms/step - loss: 0.0685 - acc: 0.9749 - val_loss: 0.1201 - val_acc: 0.9500\n",
            "Epoch 90/150\n",
            "12/12 [==============================] - 0s 6ms/step - loss: 0.0713 - acc: 0.9749 - val_loss: 0.1134 - val_acc: 0.9500\n",
            "Epoch 91/150\n",
            "12/12 [==============================] - 0s 8ms/step - loss: 0.0722 - acc: 0.9804 - val_loss: 0.1123 - val_acc: 0.9500\n",
            "Epoch 92/150\n",
            "12/12 [==============================] - 0s 7ms/step - loss: 0.0854 - acc: 0.9469 - val_loss: 0.1850 - val_acc: 0.9250\n",
            "Epoch 93/150\n",
            "12/12 [==============================] - 0s 6ms/step - loss: 0.0836 - acc: 0.9665 - val_loss: 0.1324 - val_acc: 0.9250\n",
            "Epoch 94/150\n",
            "12/12 [==============================] - 0s 8ms/step - loss: 0.0725 - acc: 0.9637 - val_loss: 0.1221 - val_acc: 0.9250\n",
            "Epoch 95/150\n",
            "12/12 [==============================] - 0s 6ms/step - loss: 0.0659 - acc: 0.9804 - val_loss: 0.1147 - val_acc: 0.9250\n",
            "Epoch 96/150\n",
            "12/12 [==============================] - 0s 5ms/step - loss: 0.0754 - acc: 0.9609 - val_loss: 0.1585 - val_acc: 0.9250\n",
            "Epoch 97/150\n",
            "12/12 [==============================] - 0s 5ms/step - loss: 0.0865 - acc: 0.9553 - val_loss: 0.1166 - val_acc: 0.9500\n",
            "Epoch 98/150\n",
            "12/12 [==============================] - 0s 6ms/step - loss: 0.0777 - acc: 0.9693 - val_loss: 0.1224 - val_acc: 0.9500\n",
            "Epoch 99/150\n",
            "12/12 [==============================] - 0s 7ms/step - loss: 0.0836 - acc: 0.9609 - val_loss: 0.1287 - val_acc: 0.9250\n",
            "Epoch 100/150\n",
            "12/12 [==============================] - 0s 7ms/step - loss: 0.0625 - acc: 0.9777 - val_loss: 0.1179 - val_acc: 0.9500\n",
            "Epoch 101/150\n",
            "12/12 [==============================] - 0s 6ms/step - loss: 0.0625 - acc: 0.9777 - val_loss: 0.1168 - val_acc: 0.9250\n",
            "Epoch 102/150\n",
            "12/12 [==============================] - 0s 7ms/step - loss: 0.0629 - acc: 0.9777 - val_loss: 0.1133 - val_acc: 0.9500\n",
            "Epoch 103/150\n",
            "12/12 [==============================] - 0s 7ms/step - loss: 0.0664 - acc: 0.9777 - val_loss: 0.1208 - val_acc: 0.9500\n",
            "Epoch 104/150\n",
            "12/12 [==============================] - 0s 8ms/step - loss: 0.0739 - acc: 0.9721 - val_loss: 0.1311 - val_acc: 0.9250\n",
            "Epoch 105/150\n",
            "12/12 [==============================] - 0s 7ms/step - loss: 0.0644 - acc: 0.9804 - val_loss: 0.1207 - val_acc: 0.9250\n",
            "Epoch 106/150\n",
            "12/12 [==============================] - 0s 6ms/step - loss: 0.0783 - acc: 0.9749 - val_loss: 0.1144 - val_acc: 0.9500\n",
            "Epoch 107/150\n",
            "12/12 [==============================] - 0s 5ms/step - loss: 0.0641 - acc: 0.9804 - val_loss: 0.1263 - val_acc: 0.9250\n",
            "Epoch 108/150\n",
            "12/12 [==============================] - 0s 5ms/step - loss: 0.0699 - acc: 0.9749 - val_loss: 0.1218 - val_acc: 0.9500\n",
            "Epoch 109/150\n",
            "12/12 [==============================] - 0s 7ms/step - loss: 0.0685 - acc: 0.9721 - val_loss: 0.1176 - val_acc: 0.9500\n",
            "Epoch 110/150\n",
            "12/12 [==============================] - 0s 7ms/step - loss: 0.0673 - acc: 0.9804 - val_loss: 0.1309 - val_acc: 0.9250\n",
            "Epoch 111/150\n",
            "12/12 [==============================] - 0s 6ms/step - loss: 0.0626 - acc: 0.9832 - val_loss: 0.1161 - val_acc: 0.9500\n",
            "Epoch 112/150\n",
            "12/12 [==============================] - 0s 5ms/step - loss: 0.0706 - acc: 0.9693 - val_loss: 0.1663 - val_acc: 0.9250\n",
            "Epoch 113/150\n",
            "12/12 [==============================] - 0s 7ms/step - loss: 0.0908 - acc: 0.9553 - val_loss: 0.1294 - val_acc: 0.9250\n",
            "Epoch 114/150\n",
            "12/12 [==============================] - 0s 7ms/step - loss: 0.0720 - acc: 0.9721 - val_loss: 0.1136 - val_acc: 0.9500\n",
            "Epoch 115/150\n",
            "12/12 [==============================] - 0s 6ms/step - loss: 0.0648 - acc: 0.9749 - val_loss: 0.1099 - val_acc: 0.9500\n",
            "Epoch 116/150\n",
            "12/12 [==============================] - 0s 7ms/step - loss: 0.0597 - acc: 0.9777 - val_loss: 0.1106 - val_acc: 0.9500\n",
            "Epoch 117/150\n",
            "12/12 [==============================] - 0s 6ms/step - loss: 0.0615 - acc: 0.9832 - val_loss: 0.1159 - val_acc: 0.9500\n",
            "Epoch 118/150\n",
            "12/12 [==============================] - 0s 7ms/step - loss: 0.0580 - acc: 0.9832 - val_loss: 0.1204 - val_acc: 0.9250\n",
            "Epoch 119/150\n",
            "12/12 [==============================] - 0s 6ms/step - loss: 0.0588 - acc: 0.9832 - val_loss: 0.1095 - val_acc: 0.9500\n",
            "Epoch 120/150\n",
            "12/12 [==============================] - 0s 7ms/step - loss: 0.0580 - acc: 0.9749 - val_loss: 0.1178 - val_acc: 0.9250\n",
            "Epoch 121/150\n",
            "12/12 [==============================] - 0s 7ms/step - loss: 0.0813 - acc: 0.9637 - val_loss: 0.1213 - val_acc: 0.9500\n",
            "Epoch 122/150\n",
            "12/12 [==============================] - 0s 5ms/step - loss: 0.0641 - acc: 0.9693 - val_loss: 0.1143 - val_acc: 0.9250\n",
            "Epoch 123/150\n",
            "12/12 [==============================] - 0s 5ms/step - loss: 0.0726 - acc: 0.9693 - val_loss: 0.1145 - val_acc: 0.9250\n",
            "Epoch 124/150\n",
            "12/12 [==============================] - 0s 5ms/step - loss: 0.0661 - acc: 0.9721 - val_loss: 0.1083 - val_acc: 0.9500\n",
            "Epoch 125/150\n",
            "12/12 [==============================] - 0s 6ms/step - loss: 0.0612 - acc: 0.9804 - val_loss: 0.1086 - val_acc: 0.9500\n",
            "Epoch 126/150\n",
            "12/12 [==============================] - 0s 7ms/step - loss: 0.0601 - acc: 0.9777 - val_loss: 0.1100 - val_acc: 0.9250\n",
            "Epoch 127/150\n",
            "12/12 [==============================] - 0s 6ms/step - loss: 0.0594 - acc: 0.9804 - val_loss: 0.1084 - val_acc: 0.9500\n",
            "Epoch 128/150\n",
            "12/12 [==============================] - 0s 34ms/step - loss: 0.0543 - acc: 0.9804 - val_loss: 0.1059 - val_acc: 0.9500\n",
            "Epoch 129/150\n",
            "12/12 [==============================] - 0s 27ms/step - loss: 0.0567 - acc: 0.9804 - val_loss: 0.1090 - val_acc: 0.9500\n",
            "Epoch 130/150\n",
            "12/12 [==============================] - 0s 28ms/step - loss: 0.0535 - acc: 0.9832 - val_loss: 0.1108 - val_acc: 0.9500\n",
            "Epoch 131/150\n",
            "12/12 [==============================] - 0s 23ms/step - loss: 0.0536 - acc: 0.9804 - val_loss: 0.1061 - val_acc: 0.9500\n",
            "Epoch 132/150\n",
            "12/12 [==============================] - 0s 11ms/step - loss: 0.0554 - acc: 0.9860 - val_loss: 0.1041 - val_acc: 0.9500\n",
            "Epoch 133/150\n",
            "12/12 [==============================] - 0s 8ms/step - loss: 0.0535 - acc: 0.9832 - val_loss: 0.1130 - val_acc: 0.9250\n",
            "Epoch 134/150\n",
            "12/12 [==============================] - 0s 7ms/step - loss: 0.0526 - acc: 0.9888 - val_loss: 0.1075 - val_acc: 0.9500\n",
            "Epoch 135/150\n",
            "12/12 [==============================] - 0s 7ms/step - loss: 0.0531 - acc: 0.9804 - val_loss: 0.1149 - val_acc: 0.9250\n",
            "Epoch 136/150\n",
            "12/12 [==============================] - 0s 7ms/step - loss: 0.0525 - acc: 0.9804 - val_loss: 0.1127 - val_acc: 0.9250\n",
            "Epoch 137/150\n",
            "12/12 [==============================] - 0s 9ms/step - loss: 0.0514 - acc: 0.9832 - val_loss: 0.1153 - val_acc: 0.9250\n",
            "Epoch 138/150\n",
            "12/12 [==============================] - 0s 8ms/step - loss: 0.0535 - acc: 0.9804 - val_loss: 0.1092 - val_acc: 0.9500\n",
            "Epoch 139/150\n",
            "12/12 [==============================] - 0s 8ms/step - loss: 0.0506 - acc: 0.9832 - val_loss: 0.1060 - val_acc: 0.9500\n",
            "Epoch 140/150\n",
            "12/12 [==============================] - 0s 10ms/step - loss: 0.0627 - acc: 0.9693 - val_loss: 0.1202 - val_acc: 0.9250\n",
            "Epoch 141/150\n",
            "12/12 [==============================] - 0s 9ms/step - loss: 0.0572 - acc: 0.9804 - val_loss: 0.1071 - val_acc: 0.9500\n",
            "Epoch 142/150\n",
            "12/12 [==============================] - 0s 12ms/step - loss: 0.0518 - acc: 0.9749 - val_loss: 0.1483 - val_acc: 0.9250\n",
            "Epoch 143/150\n",
            "12/12 [==============================] - 0s 9ms/step - loss: 0.0606 - acc: 0.9832 - val_loss: 0.1120 - val_acc: 0.9500\n",
            "Epoch 144/150\n",
            "12/12 [==============================] - 0s 8ms/step - loss: 0.0493 - acc: 0.9804 - val_loss: 0.1131 - val_acc: 0.9500\n",
            "Epoch 145/150\n",
            "12/12 [==============================] - 0s 9ms/step - loss: 0.0487 - acc: 0.9804 - val_loss: 0.1082 - val_acc: 0.9500\n",
            "Epoch 146/150\n",
            "12/12 [==============================] - 0s 11ms/step - loss: 0.0524 - acc: 0.9832 - val_loss: 0.1061 - val_acc: 0.9500\n",
            "Epoch 147/150\n",
            "12/12 [==============================] - 0s 11ms/step - loss: 0.0491 - acc: 0.9832 - val_loss: 0.1065 - val_acc: 0.9500\n",
            "Epoch 148/150\n",
            "12/12 [==============================] - 0s 8ms/step - loss: 0.0474 - acc: 0.9832 - val_loss: 0.1059 - val_acc: 0.9500\n",
            "Epoch 149/150\n",
            "12/12 [==============================] - 0s 9ms/step - loss: 0.0487 - acc: 0.9860 - val_loss: 0.1060 - val_acc: 0.9500\n",
            "Epoch 150/150\n",
            "12/12 [==============================] - 0s 7ms/step - loss: 0.0504 - acc: 0.9860 - val_loss: 0.1087 - val_acc: 0.9500\n"
          ]
        }
      ]
    },
    {
      "cell_type": "code",
      "source": [
        "# evaluasi kinerja model machine learning\n",
        "\n",
        "model.evaluate(x_test, y_test)"
      ],
      "metadata": {
        "colab": {
          "base_uri": "https://localhost:8080/"
        },
        "id": "U4O8N7BUi7hb",
        "outputId": "a71d6408-32f4-40f2-e713-fd1d1e61f08f"
      },
      "execution_count": 24,
      "outputs": [
        {
          "output_type": "stream",
          "name": "stdout",
          "text": [
            "6/6 [==============================] - 0s 3ms/step - loss: 0.0989 - acc: 0.9708\n"
          ]
        },
        {
          "output_type": "execute_result",
          "data": {
            "text/plain": [
              "[0.09894904494285583, 0.9707602262496948]"
            ]
          },
          "metadata": {},
          "execution_count": 24
        }
      ]
    },
    {
      "cell_type": "code",
      "source": [
        "#malignant = 1\n",
        "#benign = 0\n",
        "if model.predict([[370, 1,  455,    452,    444,    531,    521,    515,    277]]) == 0:\n",
        "  print('Benign (B)')\n",
        "else:\n",
        "  print('Malignant (M)')"
      ],
      "metadata": {
        "colab": {
          "base_uri": "https://localhost:8080/"
        },
        "id": "faj2uKnDi-wF",
        "outputId": "0b72daff-9819-4107-dcd7-7cd0287fe37e"
      },
      "execution_count": 25,
      "outputs": [
        {
          "output_type": "stream",
          "name": "stdout",
          "text": [
            "1/1 [==============================] - 0s 108ms/step\n",
            "Malignant (M)\n"
          ]
        }
      ]
    },
    {
      "cell_type": "code",
      "source": [
        "#malignant = 1\n",
        "#beningn = 0\n",
        "if model.predict([[3,\t414,\t1,\t3,\t0,\t37,\t0,\t152,\t345]]) == 0:\n",
        "  print('Benign (B)')\n",
        "else:\n",
        "  print('Malignant (M)')"
      ],
      "metadata": {
        "colab": {
          "base_uri": "https://localhost:8080/"
        },
        "id": "hDGqnjFZjEj0",
        "outputId": "c2218ff7-14da-4ce1-deb6-008df06ad15e"
      },
      "execution_count": 26,
      "outputs": [
        {
          "output_type": "stream",
          "name": "stdout",
          "text": [
            "1/1 [==============================] - 0s 40ms/step\n",
            "Benign (B)\n"
          ]
        }
      ]
    },
    {
      "cell_type": "code",
      "source": [
        "#save model\n",
        "\n",
        "model.save('./breast.h5')"
      ],
      "metadata": {
        "colab": {
          "base_uri": "https://localhost:8080/"
        },
        "id": "LGMxQKWhkunz",
        "outputId": "ef1eb691-272d-40f1-eca4-e110553914e3"
      },
      "execution_count": 27,
      "outputs": [
        {
          "output_type": "stream",
          "name": "stderr",
          "text": [
            "/usr/local/lib/python3.10/dist-packages/keras/src/engine/training.py:3103: UserWarning: You are saving your model as an HDF5 file via `model.save()`. This file format is considered legacy. We recommend using instead the native Keras format, e.g. `model.save('my_model.keras')`.\n",
            "  saving_api.save_model(\n"
          ]
        }
      ]
    },
    {
      "cell_type": "code",
      "source": [
        "import tensorflow as tf\n",
        "model = tf.keras.models.load_model('./breast.h5')\n",
        "converter = tf.lite.TFLiteConverter.from_keras_model(model)\n",
        "converter.optimizations = [tf.lite.Optimize.DEFAULT]\n",
        "tflite_model = converter.convert()\n",
        "open(\"./breast.tflite\", \"wb\").write(tflite_model)"
      ],
      "metadata": {
        "colab": {
          "base_uri": "https://localhost:8080/"
        },
        "id": "epkKTibAkvHa",
        "outputId": "46c4fc40-a388-4247-cb0e-f836636fe4ea"
      },
      "execution_count": 28,
      "outputs": [
        {
          "output_type": "execute_result",
          "data": {
            "text/plain": [
              "11944"
            ]
          },
          "metadata": {},
          "execution_count": 28
        }
      ]
    }
  ]
}